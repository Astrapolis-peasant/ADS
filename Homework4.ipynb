{
 "cells": [
  {
   "cell_type": "markdown",
   "metadata": {},
   "source": [
    "# Homework 4\n"
   ]
  },
  {
   "cell_type": "markdown",
   "metadata": {},
   "source": [
    "### Problem 1 (10% credit). \n",
    "What can the principal component decomposition of the regressors help multivariate linear regression with (check all that apply):\n",
    "a) improve the fit accuracy (R2);\n",
    "b) remove correlations between regressors;\n",
    "c) improve the certainty of regression coefficients estimation (shrink confidence intervals for them);\n",
    "d) allow to better interpret impact of the regressors;\n",
    "e) increase a number of regressors to gain better prediction power;\n",
    "f) introduce new regressors that have more impact on the output variable."
   ]
  },
  {
   "cell_type": "markdown",
   "metadata": {},
   "source": [
    "a) b) c)"
   ]
  },
  {
   "cell_type": "code",
   "execution_count": 3,
   "metadata": {
    "collapsed": false
   },
   "outputs": [
    {
     "name": "stdout",
     "output_type": "stream",
     "text": [
      "Populating the interactive namespace from numpy and matplotlib\n"
     ]
    }
   ],
   "source": [
    "import numpy as np\n",
    "import pandas as pd\n",
    "import datetime\n",
    "import matplotlib.pyplot as plt\n",
    "import scipy\n",
    "from scipy import stats\n",
    "%pylab inline\n",
    "from matplotlib import pyplot as plt\n",
    "from mpl_toolkits.mplot3d import Axes3D\n",
    "from mpl_toolkits.mplot3d import proj3d\n",
    "import statsmodels.formula.api as smf"
   ]
  },
  {
   "cell_type": "code",
   "execution_count": 4,
   "metadata": {
    "collapsed": false,
    "scrolled": true
   },
   "outputs": [
    {
     "data": {
      "text/html": [
       "<div>\n",
       "<table border=\"1\" class=\"dataframe\">\n",
       "  <thead>\n",
       "    <tr style=\"text-align: right;\">\n",
       "      <th></th>\n",
       "      <th>X1</th>\n",
       "      <th>X2</th>\n",
       "      <th>X3</th>\n",
       "      <th>X4</th>\n",
       "      <th>X5</th>\n",
       "      <th>X6</th>\n",
       "      <th>X7</th>\n",
       "      <th>X8</th>\n",
       "      <th>X9</th>\n",
       "      <th>X10</th>\n",
       "      <th>...</th>\n",
       "      <th>X12</th>\n",
       "      <th>X13</th>\n",
       "      <th>X14</th>\n",
       "      <th>X15</th>\n",
       "      <th>X16</th>\n",
       "      <th>X17</th>\n",
       "      <th>X18</th>\n",
       "      <th>X19</th>\n",
       "      <th>X20</th>\n",
       "      <th>Y</th>\n",
       "    </tr>\n",
       "  </thead>\n",
       "  <tbody>\n",
       "    <tr>\n",
       "      <th>100</th>\n",
       "      <td>0.021073</td>\n",
       "      <td>0.473330</td>\n",
       "      <td>-0.854525</td>\n",
       "      <td>-1.434702</td>\n",
       "      <td>-1.319011</td>\n",
       "      <td>0.602675</td>\n",
       "      <td>-0.627579</td>\n",
       "      <td>-1.546888</td>\n",
       "      <td>-1.434669</td>\n",
       "      <td>-0.003120</td>\n",
       "      <td>...</td>\n",
       "      <td>0.676649</td>\n",
       "      <td>0.397233</td>\n",
       "      <td>-0.035299</td>\n",
       "      <td>-0.426683</td>\n",
       "      <td>1.455772</td>\n",
       "      <td>2.030468</td>\n",
       "      <td>-0.843831</td>\n",
       "      <td>-0.002672</td>\n",
       "      <td>-0.177249</td>\n",
       "      <td>-0.090934</td>\n",
       "    </tr>\n",
       "    <tr>\n",
       "      <th>101</th>\n",
       "      <td>0.597511</td>\n",
       "      <td>0.257097</td>\n",
       "      <td>-0.308613</td>\n",
       "      <td>-0.818133</td>\n",
       "      <td>0.362574</td>\n",
       "      <td>0.712588</td>\n",
       "      <td>1.008610</td>\n",
       "      <td>0.210298</td>\n",
       "      <td>0.305236</td>\n",
       "      <td>-0.628875</td>\n",
       "      <td>...</td>\n",
       "      <td>1.873870</td>\n",
       "      <td>0.032842</td>\n",
       "      <td>-1.207351</td>\n",
       "      <td>-0.052605</td>\n",
       "      <td>1.215049</td>\n",
       "      <td>-1.272879</td>\n",
       "      <td>-0.684974</td>\n",
       "      <td>-1.042204</td>\n",
       "      <td>1.120010</td>\n",
       "      <td>-2.081685</td>\n",
       "    </tr>\n",
       "    <tr>\n",
       "      <th>102</th>\n",
       "      <td>2.152969</td>\n",
       "      <td>-0.739789</td>\n",
       "      <td>0.971372</td>\n",
       "      <td>0.866783</td>\n",
       "      <td>-1.153372</td>\n",
       "      <td>-1.112272</td>\n",
       "      <td>1.221799</td>\n",
       "      <td>-0.325436</td>\n",
       "      <td>0.641371</td>\n",
       "      <td>0.766197</td>\n",
       "      <td>...</td>\n",
       "      <td>-0.275757</td>\n",
       "      <td>0.561376</td>\n",
       "      <td>0.035587</td>\n",
       "      <td>0.395428</td>\n",
       "      <td>-0.291604</td>\n",
       "      <td>-0.519191</td>\n",
       "      <td>-0.230752</td>\n",
       "      <td>0.903643</td>\n",
       "      <td>1.141344</td>\n",
       "      <td>5.623493</td>\n",
       "    </tr>\n",
       "    <tr>\n",
       "      <th>103</th>\n",
       "      <td>0.321259</td>\n",
       "      <td>-0.646392</td>\n",
       "      <td>-0.468620</td>\n",
       "      <td>-0.680378</td>\n",
       "      <td>-0.292803</td>\n",
       "      <td>0.519052</td>\n",
       "      <td>0.093340</td>\n",
       "      <td>-0.699125</td>\n",
       "      <td>0.858503</td>\n",
       "      <td>0.081597</td>\n",
       "      <td>...</td>\n",
       "      <td>-0.798732</td>\n",
       "      <td>0.744467</td>\n",
       "      <td>-0.614448</td>\n",
       "      <td>1.687696</td>\n",
       "      <td>-1.866164</td>\n",
       "      <td>1.426627</td>\n",
       "      <td>-0.936641</td>\n",
       "      <td>1.150681</td>\n",
       "      <td>-0.271796</td>\n",
       "      <td>-1.511269</td>\n",
       "    </tr>\n",
       "    <tr>\n",
       "      <th>104</th>\n",
       "      <td>-1.134511</td>\n",
       "      <td>-1.250763</td>\n",
       "      <td>0.436301</td>\n",
       "      <td>0.618552</td>\n",
       "      <td>-0.411966</td>\n",
       "      <td>2.915248</td>\n",
       "      <td>-0.735903</td>\n",
       "      <td>2.421916</td>\n",
       "      <td>-1.750252</td>\n",
       "      <td>-0.663054</td>\n",
       "      <td>...</td>\n",
       "      <td>-1.225360</td>\n",
       "      <td>-1.593128</td>\n",
       "      <td>-0.716077</td>\n",
       "      <td>-0.872342</td>\n",
       "      <td>-1.177990</td>\n",
       "      <td>-1.648093</td>\n",
       "      <td>-0.567438</td>\n",
       "      <td>-1.511116</td>\n",
       "      <td>0.013016</td>\n",
       "      <td>3.660144</td>\n",
       "    </tr>\n",
       "  </tbody>\n",
       "</table>\n",
       "<p>5 rows × 21 columns</p>\n",
       "</div>"
      ],
      "text/plain": [
       "           X1        X2        X3        X4        X5        X6        X7  \\\n",
       "100  0.021073  0.473330 -0.854525 -1.434702 -1.319011  0.602675 -0.627579   \n",
       "101  0.597511  0.257097 -0.308613 -0.818133  0.362574  0.712588  1.008610   \n",
       "102  2.152969 -0.739789  0.971372  0.866783 -1.153372 -1.112272  1.221799   \n",
       "103  0.321259 -0.646392 -0.468620 -0.680378 -0.292803  0.519052  0.093340   \n",
       "104 -1.134511 -1.250763  0.436301  0.618552 -0.411966  2.915248 -0.735903   \n",
       "\n",
       "           X8        X9       X10    ...          X12       X13       X14  \\\n",
       "100 -1.546888 -1.434669 -0.003120    ...     0.676649  0.397233 -0.035299   \n",
       "101  0.210298  0.305236 -0.628875    ...     1.873870  0.032842 -1.207351   \n",
       "102 -0.325436  0.641371  0.766197    ...    -0.275757  0.561376  0.035587   \n",
       "103 -0.699125  0.858503  0.081597    ...    -0.798732  0.744467 -0.614448   \n",
       "104  2.421916 -1.750252 -0.663054    ...    -1.225360 -1.593128 -0.716077   \n",
       "\n",
       "          X15       X16       X17       X18       X19       X20         Y  \n",
       "100 -0.426683  1.455772  2.030468 -0.843831 -0.002672 -0.177249 -0.090934  \n",
       "101 -0.052605  1.215049 -1.272879 -0.684974 -1.042204  1.120010 -2.081685  \n",
       "102  0.395428 -0.291604 -0.519191 -0.230752  0.903643  1.141344  5.623493  \n",
       "103  1.687696 -1.866164  1.426627 -0.936641  1.150681 -0.271796 -1.511269  \n",
       "104 -0.872342 -1.177990 -1.648093 -0.567438 -1.511116  0.013016  3.660144  \n",
       "\n",
       "[5 rows x 21 columns]"
      ]
     },
     "execution_count": 4,
     "metadata": {},
     "output_type": "execute_result"
    }
   ],
   "source": [
    "### data for problem 2\n",
    "data1 = pd.read_csv('https://serv.cusp.nyu.edu/files/ADS-2015/MorningSection/homework4/H41.csv' , index_col=0 )\n",
    "(N,n)=data1.shape\n",
    "n=n-1\n",
    "train1 = data1.loc[0:((N/2)-1),:]\n",
    "valid1 = data1.loc[(N/2):(N-1),:]\n",
    "valid1.head()"
   ]
  },
  {
   "cell_type": "markdown",
   "metadata": {},
   "source": [
    "### Problem 2 (40% credit). \n",
    "For the data above (training and validation sets) perform a multivariate regression of Y vs all the columns of X and implement a backward stepwise feature selection procedure (evaluating the models trained using different sets of features over the training set using the validation set). Report statistics for both - initial regression and the regression vs the selected subset of regressors."
   ]
  },
  {
   "cell_type": "code",
   "execution_count": 11,
   "metadata": {
    "collapsed": false
   },
   "outputs": [
    {
     "name": "stdout",
     "output_type": "stream",
     "text": [
      "                            OLS Regression Results                            \n",
      "==============================================================================\n",
      "Dep. Variable:                      Y   R-squared:                       0.756\n",
      "Model:                            OLS   Adj. R-squared:                  0.695\n",
      "Method:                 Least Squares   F-statistic:                     12.42\n",
      "Date:                Wed, 14 Oct 2015   Prob (F-statistic):           5.25e-17\n",
      "Time:                        01:17:38   Log-Likelihood:                -217.17\n",
      "No. Observations:                 100   AIC:                             474.3\n",
      "Df Residuals:                      80   BIC:                             526.4\n",
      "Df Model:                          20                                         \n",
      "Covariance Type:            nonrobust                                         \n",
      "==============================================================================\n",
      "                 coef    std err          t      P>|t|      [95.0% Conf. Int.]\n",
      "------------------------------------------------------------------------------\n",
      "X1            -0.1257      0.226     -0.555      0.581        -0.576     0.325\n",
      "X2            -0.1600      0.252     -0.636      0.527        -0.661     0.341\n",
      "X3             0.9117      0.267      3.415      0.001         0.381     1.443\n",
      "X4            -0.2560      0.305     -0.840      0.403        -0.863     0.351\n",
      "X5            -3.0468      0.240    -12.693      0.000        -3.525    -2.569\n",
      "X6            -0.5011      0.289     -1.732      0.087        -1.077     0.075\n",
      "X7             0.8583      0.230      3.739      0.000         0.401     1.315\n",
      "X8             0.0565      0.285      0.198      0.844        -0.512     0.625\n",
      "X9            -0.4958      0.290     -1.711      0.091        -1.073     0.081\n",
      "X10            0.2375      0.255      0.929      0.355        -0.271     0.746\n",
      "X11            0.4010      0.317      1.264      0.210        -0.230     1.032\n",
      "X12            0.2206      0.264      0.834      0.407        -0.306     0.747\n",
      "X13           -0.1241      0.265     -0.469      0.640        -0.651     0.403\n",
      "X14            0.2137      0.286      0.747      0.457        -0.355     0.783\n",
      "X15            0.0910      0.314      0.290      0.773        -0.534     0.716\n",
      "X16            0.2296      0.247      0.929      0.356        -0.262     0.721\n",
      "X17            0.2337      0.289      0.810      0.421        -0.341     0.808\n",
      "X18           -0.1703      0.300     -0.567      0.572        -0.768     0.427\n",
      "X19           -0.2890      0.240     -1.204      0.232        -0.767     0.189\n",
      "X20           -0.1021      0.268     -0.381      0.705        -0.636     0.432\n",
      "==============================================================================\n",
      "Omnibus:                        2.123   Durbin-Watson:                   1.973\n",
      "Prob(Omnibus):                  0.346   Jarque-Bera (JB):                1.487\n",
      "Skew:                           0.013   Prob(JB):                        0.475\n",
      "Kurtosis:                       2.403   Cond. No.                         2.40\n",
      "==============================================================================\n",
      "\n",
      "Warnings:\n",
      "[1] Standard Errors assume that the covariance matrix of the errors is correctly specified.\n",
      "Validation R2=0.669383618562\n"
     ]
    }
   ],
   "source": [
    "formstr='Y ~ -1'\n",
    "for i in range(1,21):\n",
    "    formstr=formstr+'+X'+str(i)\n",
    "lm = smf.ols(formula=formstr, data = train1).fit()  \n",
    "print(lm.summary())\n",
    "r2=[lm.rsquared]   \n",
    "lmy2 = lm.predict(valid1)\n",
    "R2v=1-sum(pow(lmy2-valid1.Y,2))/sum(pow(valid1.Y-mean(valid1.Y),2))\n",
    "print('Validation R2={0}'.format(R2v))"
   ]
  },
  {
   "cell_type": "code",
   "execution_count": 13,
   "metadata": {
    "collapsed": false
   },
   "outputs": [
    {
     "name": "stdout",
     "output_type": "stream",
     "text": [
      "(5, 0.6960538059403752)\n",
      "(15, 0.7191016461680386)\n",
      "(13, 0.7284142787654866)\n",
      "(16, 0.7359099354027041)\n",
      "(10, 0.7423556119004792)\n",
      "(8, 0.7474664549371683)\n",
      "(9, 0.7526975191920983)\n",
      "(12, 0.7559625255138238)\n",
      "(17, 0.7569431466521378)\n",
      "(0, 0.7580003842978358)\n",
      "(7, 0.758641577071861)\n",
      "(1, 0.7594296489782312)\n"
     ]
    },
    {
     "data": {
      "text/html": [
       "<table class=\"simpletable\">\n",
       "<caption>OLS Regression Results</caption>\n",
       "<tr>\n",
       "  <th>Dep. Variable:</th>            <td>Y</td>        <th>  R-squared:         </th> <td>   0.725</td>\n",
       "</tr>\n",
       "<tr>\n",
       "  <th>Model:</th>                   <td>OLS</td>       <th>  Adj. R-squared:    </th> <td>   0.701</td>\n",
       "</tr>\n",
       "<tr>\n",
       "  <th>Method:</th>             <td>Least Squares</td>  <th>  F-statistic:       </th> <td>   30.34</td>\n",
       "</tr>\n",
       "<tr>\n",
       "  <th>Date:</th>             <td>Wed, 14 Oct 2015</td> <th>  Prob (F-statistic):</th> <td>1.14e-22</td>\n",
       "</tr>\n",
       "<tr>\n",
       "  <th>Time:</th>                 <td>01:22:09</td>     <th>  Log-Likelihood:    </th> <td> -223.20</td>\n",
       "</tr>\n",
       "<tr>\n",
       "  <th>No. Observations:</th>      <td>   100</td>      <th>  AIC:               </th> <td>   462.4</td>\n",
       "</tr>\n",
       "<tr>\n",
       "  <th>Df Residuals:</th>          <td>    92</td>      <th>  BIC:               </th> <td>   483.2</td>\n",
       "</tr>\n",
       "<tr>\n",
       "  <th>Df Model:</th>              <td>     8</td>      <th>                     </th>     <td> </td>   \n",
       "</tr>\n",
       "<tr>\n",
       "  <th>Covariance Type:</th>      <td>nonrobust</td>    <th>                     </th>     <td> </td>   \n",
       "</tr>\n",
       "</table>\n",
       "<table class=\"simpletable\">\n",
       "<tr>\n",
       "   <td></td>      <th>coef</th>     <th>std err</th>      <th>t</th>      <th>P>|t|</th> <th>[95.0% Conf. Int.]</th> \n",
       "</tr>\n",
       "<tr>\n",
       "  <th>X3</th>  <td>    1.0003</td> <td>    0.251</td> <td>    3.978</td> <td> 0.000</td> <td>    0.501     1.500</td>\n",
       "</tr>\n",
       "<tr>\n",
       "  <th>X4</th>  <td>   -0.0100</td> <td>    0.277</td> <td>   -0.036</td> <td> 0.971</td> <td>   -0.561     0.541</td>\n",
       "</tr>\n",
       "<tr>\n",
       "  <th>X5</th>  <td>   -3.1736</td> <td>    0.220</td> <td>  -14.433</td> <td> 0.000</td> <td>   -3.610    -2.737</td>\n",
       "</tr>\n",
       "<tr>\n",
       "  <th>X7</th>  <td>    0.7646</td> <td>    0.219</td> <td>    3.495</td> <td> 0.001</td> <td>    0.330     1.199</td>\n",
       "</tr>\n",
       "<tr>\n",
       "  <th>X12</th> <td>    0.1348</td> <td>    0.251</td> <td>    0.537</td> <td> 0.593</td> <td>   -0.364     0.634</td>\n",
       "</tr>\n",
       "<tr>\n",
       "  <th>X15</th> <td>   -0.1464</td> <td>    0.275</td> <td>   -0.532</td> <td> 0.596</td> <td>   -0.693     0.400</td>\n",
       "</tr>\n",
       "<tr>\n",
       "  <th>X19</th> <td>   -0.3416</td> <td>    0.229</td> <td>   -1.489</td> <td> 0.140</td> <td>   -0.797     0.114</td>\n",
       "</tr>\n",
       "<tr>\n",
       "  <th>X20</th> <td>    0.0090</td> <td>    0.249</td> <td>    0.036</td> <td> 0.971</td> <td>   -0.485     0.503</td>\n",
       "</tr>\n",
       "</table>\n",
       "<table class=\"simpletable\">\n",
       "<tr>\n",
       "  <th>Omnibus:</th>       <td> 2.347</td> <th>  Durbin-Watson:     </th> <td>   2.028</td>\n",
       "</tr>\n",
       "<tr>\n",
       "  <th>Prob(Omnibus):</th> <td> 0.309</td> <th>  Jarque-Bera (JB):  </th> <td>   1.594</td>\n",
       "</tr>\n",
       "<tr>\n",
       "  <th>Skew:</th>          <td>-0.042</td> <th>  Prob(JB):          </th> <td>   0.451</td>\n",
       "</tr>\n",
       "<tr>\n",
       "  <th>Kurtosis:</th>      <td> 2.387</td> <th>  Cond. No.          </th> <td>    1.59</td>\n",
       "</tr>\n",
       "</table>"
      ],
      "text/plain": [
       "<class 'statsmodels.iolib.summary.Summary'>\n",
       "\"\"\"\n",
       "                            OLS Regression Results                            \n",
       "==============================================================================\n",
       "Dep. Variable:                      Y   R-squared:                       0.725\n",
       "Model:                            OLS   Adj. R-squared:                  0.701\n",
       "Method:                 Least Squares   F-statistic:                     30.34\n",
       "Date:                Wed, 14 Oct 2015   Prob (F-statistic):           1.14e-22\n",
       "Time:                        01:22:09   Log-Likelihood:                -223.20\n",
       "No. Observations:                 100   AIC:                             462.4\n",
       "Df Residuals:                      92   BIC:                             483.2\n",
       "Df Model:                           8                                         \n",
       "Covariance Type:            nonrobust                                         \n",
       "==============================================================================\n",
       "                 coef    std err          t      P>|t|      [95.0% Conf. Int.]\n",
       "------------------------------------------------------------------------------\n",
       "X3             1.0003      0.251      3.978      0.000         0.501     1.500\n",
       "X4            -0.0100      0.277     -0.036      0.971        -0.561     0.541\n",
       "X5            -3.1736      0.220    -14.433      0.000        -3.610    -2.737\n",
       "X7             0.7646      0.219      3.495      0.001         0.330     1.199\n",
       "X12            0.1348      0.251      0.537      0.593        -0.364     0.634\n",
       "X15           -0.1464      0.275     -0.532      0.596        -0.693     0.400\n",
       "X19           -0.3416      0.229     -1.489      0.140        -0.797     0.114\n",
       "X20            0.0090      0.249      0.036      0.971        -0.485     0.503\n",
       "==============================================================================\n",
       "Omnibus:                        2.347   Durbin-Watson:                   2.028\n",
       "Prob(Omnibus):                  0.309   Jarque-Bera (JB):                1.594\n",
       "Skew:                          -0.042   Prob(JB):                        0.451\n",
       "Kurtosis:                       2.387   Cond. No.                         1.59\n",
       "==============================================================================\n",
       "\n",
       "Warnings:\n",
       "[1] Standard Errors assume that the covariance matrix of the errors is correctly specified.\n",
       "\"\"\""
      ]
     },
     "execution_count": 13,
     "metadata": {},
     "output_type": "execute_result"
    }
   ],
   "source": [
    "def regress(mask):\n",
    "    formstr='Y~-1'\n",
    "    for i in range(0,len(mask)):\n",
    "        if mask[i]==1:\n",
    "            formstr=formstr+'+X'+str(i+1)\n",
    "    lm = smf.ols(formula=formstr, data = train1).fit()\n",
    "    lmy2 = lm.predict(valid1)\n",
    "    R2=1-sum(pow(lmy2-valid1.Y,2))/sum(pow(valid1.Y-mean(valid1.Y),2))\n",
    "    #R2=1-sum(pow(lmy2-valid.Y,2))*(n-1)/sum(pow(valid.Y-mean(valid.Y),2))/(n-sum(mask)-1)\n",
    "    return (R2,lm) \n",
    "\n",
    "n=20\n",
    "mask0=[1]*n \n",
    "r20=0\n",
    "while True:\n",
    "    worstI=-1 \n",
    "    for i in range(0,n):\n",
    "        if (mask0[i]==1):\n",
    "             mask=mask0[:]\n",
    "             mask[i]=0\n",
    "             r2=regress(mask)[0]\n",
    "             if (r2>r20):\n",
    "                 r20=r2\n",
    "                 worstI=i\n",
    "    if (worstI>=0):\n",
    "        mask0[worstI]=0\n",
    "        print((worstI,r20))\n",
    "    else:\n",
    "        break\n",
    "(r2,lm)= regress(mask0)\n",
    "lm.summary()"
   ]
  },
  {
   "cell_type": "code",
   "execution_count": 9,
   "metadata": {
    "collapsed": false
   },
   "outputs": [
    {
     "data": {
      "text/html": [
       "<div>\n",
       "<table border=\"1\" class=\"dataframe\">\n",
       "  <thead>\n",
       "    <tr style=\"text-align: right;\">\n",
       "      <th></th>\n",
       "      <th>X1</th>\n",
       "      <th>X2</th>\n",
       "      <th>X3</th>\n",
       "      <th>X4</th>\n",
       "      <th>X5</th>\n",
       "      <th>X6</th>\n",
       "      <th>X7</th>\n",
       "      <th>X8</th>\n",
       "      <th>X9</th>\n",
       "      <th>X10</th>\n",
       "      <th>Y</th>\n",
       "    </tr>\n",
       "  </thead>\n",
       "  <tbody>\n",
       "    <tr>\n",
       "      <th>0</th>\n",
       "      <td>10.261135</td>\n",
       "      <td>4.415661</td>\n",
       "      <td>3.185990</td>\n",
       "      <td>14.588875</td>\n",
       "      <td>-2.441283</td>\n",
       "      <td>1.994659</td>\n",
       "      <td>-2.832966</td>\n",
       "      <td>-4.060996</td>\n",
       "      <td>-9.552254</td>\n",
       "      <td>2.088611</td>\n",
       "      <td>4.332115</td>\n",
       "    </tr>\n",
       "    <tr>\n",
       "      <th>1</th>\n",
       "      <td>-6.484509</td>\n",
       "      <td>1.496613</td>\n",
       "      <td>-5.139275</td>\n",
       "      <td>8.612433</td>\n",
       "      <td>6.095630</td>\n",
       "      <td>6.515780</td>\n",
       "      <td>2.772823</td>\n",
       "      <td>-4.576894</td>\n",
       "      <td>-7.844913</td>\n",
       "      <td>-3.729653</td>\n",
       "      <td>-2.626149</td>\n",
       "    </tr>\n",
       "    <tr>\n",
       "      <th>2</th>\n",
       "      <td>2.213149</td>\n",
       "      <td>3.328561</td>\n",
       "      <td>2.493297</td>\n",
       "      <td>3.561928</td>\n",
       "      <td>3.432203</td>\n",
       "      <td>-6.106145</td>\n",
       "      <td>-2.403077</td>\n",
       "      <td>0.254194</td>\n",
       "      <td>2.485210</td>\n",
       "      <td>-4.857989</td>\n",
       "      <td>6.190211</td>\n",
       "    </tr>\n",
       "    <tr>\n",
       "      <th>3</th>\n",
       "      <td>-11.539916</td>\n",
       "      <td>1.168906</td>\n",
       "      <td>-5.640197</td>\n",
       "      <td>-12.757397</td>\n",
       "      <td>-3.153445</td>\n",
       "      <td>-5.316729</td>\n",
       "      <td>9.594091</td>\n",
       "      <td>5.387306</td>\n",
       "      <td>3.617259</td>\n",
       "      <td>6.098015</td>\n",
       "      <td>-4.949503</td>\n",
       "    </tr>\n",
       "    <tr>\n",
       "      <th>4</th>\n",
       "      <td>5.227771</td>\n",
       "      <td>-5.799965</td>\n",
       "      <td>1.170432</td>\n",
       "      <td>2.397935</td>\n",
       "      <td>5.572502</td>\n",
       "      <td>0.871541</td>\n",
       "      <td>2.330155</td>\n",
       "      <td>-2.214523</td>\n",
       "      <td>3.428943</td>\n",
       "      <td>-6.646335</td>\n",
       "      <td>2.131978</td>\n",
       "    </tr>\n",
       "  </tbody>\n",
       "</table>\n",
       "</div>"
      ],
      "text/plain": [
       "          X1        X2        X3         X4        X5        X6        X7  \\\n",
       "0  10.261135  4.415661  3.185990  14.588875 -2.441283  1.994659 -2.832966   \n",
       "1  -6.484509  1.496613 -5.139275   8.612433  6.095630  6.515780  2.772823   \n",
       "2   2.213149  3.328561  2.493297   3.561928  3.432203 -6.106145 -2.403077   \n",
       "3 -11.539916  1.168906 -5.640197 -12.757397 -3.153445 -5.316729  9.594091   \n",
       "4   5.227771 -5.799965  1.170432   2.397935  5.572502  0.871541  2.330155   \n",
       "\n",
       "         X8        X9       X10         Y  \n",
       "0 -4.060996 -9.552254  2.088611  4.332115  \n",
       "1 -4.576894 -7.844913 -3.729653 -2.626149  \n",
       "2  0.254194  2.485210 -4.857989  6.190211  \n",
       "3  5.387306  3.617259  6.098015 -4.949503  \n",
       "4 -2.214523  3.428943 -6.646335  2.131978  "
      ]
     },
     "execution_count": 9,
     "metadata": {},
     "output_type": "execute_result"
    }
   ],
   "source": [
    "#data for problems 3-5\n",
    "data2 = pd.read_csv('https://serv.cusp.nyu.edu/files/ADS-2015/MorningSection/homework4/H42.csv' , index_col=0 )\n",
    "data2.head()"
   ]
  },
  {
   "cell_type": "markdown",
   "metadata": {},
   "source": [
    "### Problem 4 (20% of credit)\n",
    "For the regressors X from the above dataset 2 perform a principal component decomposition and visualize the percent of variation as a function of the number of selected leading principal components."
   ]
  },
  {
   "cell_type": "code",
   "execution_count": 14,
   "metadata": {
    "collapsed": false
   },
   "outputs": [
    {
     "data": {
      "text/html": [
       "<table class=\"simpletable\">\n",
       "<caption>OLS Regression Results</caption>\n",
       "<tr>\n",
       "  <th>Dep. Variable:</th>            <td>Y</td>        <th>  R-squared:         </th> <td>   0.795</td>\n",
       "</tr>\n",
       "<tr>\n",
       "  <th>Model:</th>                   <td>OLS</td>       <th>  Adj. R-squared:    </th> <td>   0.772</td>\n",
       "</tr>\n",
       "<tr>\n",
       "  <th>Method:</th>             <td>Least Squares</td>  <th>  F-statistic:       </th> <td>   34.49</td>\n",
       "</tr>\n",
       "<tr>\n",
       "  <th>Date:</th>             <td>Wed, 14 Oct 2015</td> <th>  Prob (F-statistic):</th> <td>2.00e-26</td>\n",
       "</tr>\n",
       "<tr>\n",
       "  <th>Time:</th>                 <td>01:38:50</td>     <th>  Log-Likelihood:    </th> <td> -204.22</td>\n",
       "</tr>\n",
       "<tr>\n",
       "  <th>No. Observations:</th>      <td>   100</td>      <th>  AIC:               </th> <td>   430.4</td>\n",
       "</tr>\n",
       "<tr>\n",
       "  <th>Df Residuals:</th>          <td>    89</td>      <th>  BIC:               </th> <td>   459.1</td>\n",
       "</tr>\n",
       "<tr>\n",
       "  <th>Df Model:</th>              <td>    10</td>      <th>                     </th>     <td> </td>   \n",
       "</tr>\n",
       "<tr>\n",
       "  <th>Covariance Type:</th>      <td>nonrobust</td>    <th>                     </th>     <td> </td>   \n",
       "</tr>\n",
       "</table>\n",
       "<table class=\"simpletable\">\n",
       "<tr>\n",
       "      <td></td>         <th>coef</th>     <th>std err</th>      <th>t</th>      <th>P>|t|</th> <th>[95.0% Conf. Int.]</th> \n",
       "</tr>\n",
       "<tr>\n",
       "  <th>Intercept</th> <td>   -0.2329</td> <td>    0.205</td> <td>   -1.137</td> <td> 0.259</td> <td>   -0.640     0.174</td>\n",
       "</tr>\n",
       "<tr>\n",
       "  <th>X1</th>        <td>   -0.0123</td> <td>    0.036</td> <td>   -0.345</td> <td> 0.731</td> <td>   -0.083     0.059</td>\n",
       "</tr>\n",
       "<tr>\n",
       "  <th>X2</th>        <td>    0.2951</td> <td>    0.070</td> <td>    4.232</td> <td> 0.000</td> <td>    0.157     0.434</td>\n",
       "</tr>\n",
       "<tr>\n",
       "  <th>X3</th>        <td>    0.0946</td> <td>    0.110</td> <td>    0.862</td> <td> 0.391</td> <td>   -0.124     0.313</td>\n",
       "</tr>\n",
       "<tr>\n",
       "  <th>X4</th>        <td>    0.1225</td> <td>    0.042</td> <td>    2.924</td> <td> 0.004</td> <td>    0.039     0.206</td>\n",
       "</tr>\n",
       "<tr>\n",
       "  <th>X5</th>        <td>    0.3453</td> <td>    0.093</td> <td>    3.708</td> <td> 0.000</td> <td>    0.160     0.530</td>\n",
       "</tr>\n",
       "<tr>\n",
       "  <th>X6</th>        <td>   -0.4233</td> <td>    0.061</td> <td>   -6.921</td> <td> 0.000</td> <td>   -0.545    -0.302</td>\n",
       "</tr>\n",
       "<tr>\n",
       "  <th>X7</th>        <td>   -0.1868</td> <td>    0.089</td> <td>   -2.106</td> <td> 0.038</td> <td>   -0.363    -0.011</td>\n",
       "</tr>\n",
       "<tr>\n",
       "  <th>X8</th>        <td>   -0.4046</td> <td>    0.088</td> <td>   -4.600</td> <td> 0.000</td> <td>   -0.579    -0.230</td>\n",
       "</tr>\n",
       "<tr>\n",
       "  <th>X9</th>        <td>    0.1631</td> <td>    0.064</td> <td>    2.548</td> <td> 0.013</td> <td>    0.036     0.290</td>\n",
       "</tr>\n",
       "<tr>\n",
       "  <th>X10</th>       <td>    0.0056</td> <td>    0.098</td> <td>    0.058</td> <td> 0.954</td> <td>   -0.188     0.200</td>\n",
       "</tr>\n",
       "</table>\n",
       "<table class=\"simpletable\">\n",
       "<tr>\n",
       "  <th>Omnibus:</th>       <td> 2.202</td> <th>  Durbin-Watson:     </th> <td>   1.939</td>\n",
       "</tr>\n",
       "<tr>\n",
       "  <th>Prob(Omnibus):</th> <td> 0.333</td> <th>  Jarque-Bera (JB):  </th> <td>   1.677</td>\n",
       "</tr>\n",
       "<tr>\n",
       "  <th>Skew:</th>          <td> 0.298</td> <th>  Prob(JB):          </th> <td>   0.432</td>\n",
       "</tr>\n",
       "<tr>\n",
       "  <th>Kurtosis:</th>      <td> 3.220</td> <th>  Cond. No.          </th> <td>    13.1</td>\n",
       "</tr>\n",
       "</table>"
      ],
      "text/plain": [
       "<class 'statsmodels.iolib.summary.Summary'>\n",
       "\"\"\"\n",
       "                            OLS Regression Results                            \n",
       "==============================================================================\n",
       "Dep. Variable:                      Y   R-squared:                       0.795\n",
       "Model:                            OLS   Adj. R-squared:                  0.772\n",
       "Method:                 Least Squares   F-statistic:                     34.49\n",
       "Date:                Wed, 14 Oct 2015   Prob (F-statistic):           2.00e-26\n",
       "Time:                        01:38:50   Log-Likelihood:                -204.22\n",
       "No. Observations:                 100   AIC:                             430.4\n",
       "Df Residuals:                      89   BIC:                             459.1\n",
       "Df Model:                          10                                         \n",
       "Covariance Type:            nonrobust                                         \n",
       "==============================================================================\n",
       "                 coef    std err          t      P>|t|      [95.0% Conf. Int.]\n",
       "------------------------------------------------------------------------------\n",
       "Intercept     -0.2329      0.205     -1.137      0.259        -0.640     0.174\n",
       "X1            -0.0123      0.036     -0.345      0.731        -0.083     0.059\n",
       "X2             0.2951      0.070      4.232      0.000         0.157     0.434\n",
       "X3             0.0946      0.110      0.862      0.391        -0.124     0.313\n",
       "X4             0.1225      0.042      2.924      0.004         0.039     0.206\n",
       "X5             0.3453      0.093      3.708      0.000         0.160     0.530\n",
       "X6            -0.4233      0.061     -6.921      0.000        -0.545    -0.302\n",
       "X7            -0.1868      0.089     -2.106      0.038        -0.363    -0.011\n",
       "X8            -0.4046      0.088     -4.600      0.000        -0.579    -0.230\n",
       "X9             0.1631      0.064      2.548      0.013         0.036     0.290\n",
       "X10            0.0056      0.098      0.058      0.954        -0.188     0.200\n",
       "==============================================================================\n",
       "Omnibus:                        2.202   Durbin-Watson:                   1.939\n",
       "Prob(Omnibus):                  0.333   Jarque-Bera (JB):                1.677\n",
       "Skew:                           0.298   Prob(JB):                        0.432\n",
       "Kurtosis:                       3.220   Cond. No.                         13.1\n",
       "==============================================================================\n",
       "\n",
       "Warnings:\n",
       "[1] Standard Errors assume that the covariance matrix of the errors is correctly specified.\n",
       "\"\"\""
      ]
     },
     "execution_count": 14,
     "metadata": {},
     "output_type": "execute_result"
    }
   ],
   "source": [
    "lm=smf.ols(formula='Y~X1+X2+X3+X4+X5+X6+X7+X8+X9+X10', data = data2).fit()\n",
    "lm.summary()"
   ]
  },
  {
   "cell_type": "code",
   "execution_count": 17,
   "metadata": {
    "collapsed": true
   },
   "outputs": [],
   "source": [
    "Y=np.matrix(data2.Y)\n",
    "X=np.matrix(data2[['X1','X2','X3','X4','X5','X6','X7','X8','X9','X10']])"
   ]
  },
  {
   "cell_type": "code",
   "execution_count": 18,
   "metadata": {
    "collapsed": true
   },
   "outputs": [],
   "source": [
    "m=mean(X,0)\n",
    "s=std(X,0)\n",
    "X1=1.0*np.array(X)\n",
    "for i in xrange(0,10):\n",
    "    X1[:,i]=(X1[:,i]-m[0,i])/s[0,i]"
   ]
  },
  {
   "cell_type": "code",
   "execution_count": 35,
   "metadata": {
    "collapsed": false
   },
   "outputs": [
    {
     "name": "stdout",
     "output_type": "stream",
     "text": [
      "[[-0.18840661 -0.05301176 -0.4021481  -0.56816298  0.06430233 -0.17895067\n",
      "   0.6421279  -0.08823936  0.10062023 -0.10374703]\n",
      " [-0.32115945 -0.41165156  0.35675017 -0.19939257 -0.27749045 -0.07506454\n",
      "   0.06361375  0.30170545 -0.61859191 -0.0026547 ]\n",
      " [ 0.53714356 -0.03190581 -0.07856111 -0.3123923   0.06696395 -0.07475957\n",
      "  -0.03218057  0.17908607 -0.1423479   0.73705802]\n",
      " [-0.12174695 -0.53059698 -0.20994528  0.07370504  0.16771439 -0.58178124\n",
      "  -0.347811    0.22470667  0.34067415 -0.00361851]\n",
      " [-0.11992948 -0.11150063 -0.40957127  0.3630269  -0.7357052   0.08904285\n",
      "   0.14881089  0.00468397  0.11877765  0.29695428]\n",
      " [-0.05278469 -0.32938477 -0.26042649  0.47718368  0.54835389  0.31022359\n",
      "   0.3213921   0.08902061 -0.2650851   0.12155209]\n",
      " [-0.47033563  0.32810647  0.03564431 -0.10453094  0.12539997  0.26319518\n",
      "  -0.04118375  0.65279925  0.30507029  0.23027289]\n",
      " [ 0.18202061 -0.20144143  0.62076305  0.19090186 -0.04367835 -0.09297616\n",
      "   0.52623714  0.06358145  0.45161454  0.09499146]\n",
      " [ 0.01343019  0.52095014 -0.03758779  0.3561416   0.0347218  -0.63971678\n",
      "   0.23190301  0.21550671 -0.29907542 -0.00833577]\n",
      " [-0.53508621  0.06806868  0.19276061  0.02668676  0.15955967 -0.1642024\n",
      "  -0.0614717  -0.57796498 -0.00706352  0.52998742]]\n"
     ]
    }
   ],
   "source": [
    "U, s, Vt = np.linalg.svd(X1) #singular value decomposition\n",
    "V = Vt.T\n",
    "#sort singular values\n",
    "ind = np.argsort(s)[::-1] \n",
    "U = U[:, ind]\n",
    "s = s[ind]\n",
    "V = V[:, ind]\n",
    "S = np.diag(s)\n",
    "P=X1*np.matrix(V)\n",
    "print(V)"
   ]
  },
  {
   "cell_type": "code",
   "execution_count": 20,
   "metadata": {
    "collapsed": false,
    "scrolled": true
   },
   "outputs": [
    {
     "data": {
      "text/plain": [
       "<Container object of 10 artists>"
      ]
     },
     "execution_count": 20,
     "metadata": {},
     "output_type": "execute_result"
    },
    {
     "data": {
      "image/png": "[encoded data removed]",
      "text/plain": [
       "<matplotlib.figure.Figure at 0x10be85290>"
      ]
     },
     "metadata": {},
     "output_type": "display_data"
    }
   ],
   "source": [
    "sc=cumsum(s**2/sum(s**2))\n",
    "plt.bar(range(1,(len(sc)+1)),sc)"
   ]
  },
  {
   "cell_type": "markdown",
   "metadata": {},
   "source": [
    "### Problem 5 (15% of credit)\n",
    "For the principal component decomposition from the problem 4, visualize the data in a 2d and 3d coordinate system according to the 2 and 3 leading principal components correspondingly."
   ]
  },
  {
   "cell_type": "code",
   "execution_count": 23,
   "metadata": {
    "collapsed": false
   },
   "outputs": [
    {
     "data": {
      "text/plain": [
       "[<matplotlib.lines.Line2D at 0x109a9ae90>]"
      ]
     },
     "execution_count": 23,
     "metadata": {},
     "output_type": "execute_result"
    },
    {
     "data": {
      "image/png": "[encoded data removed]",
      "text/plain": [
       "<matplotlib.figure.Figure at 0x109a88d90>"
      ]
     },
     "metadata": {},
     "output_type": "display_data"
    }
   ],
   "source": [
    "plt.plot(np.array(P[:,0]), np.array(P[:,1]),\n",
    "        'o', color='blue', alpha=1)"
   ]
  },
  {
   "cell_type": "code",
   "execution_count": 24,
   "metadata": {
    "collapsed": false
   },
   "outputs": [
    {
     "name": "stderr",
     "output_type": "stream",
     "text": [
      "/Users/bonanyuan/anaconda/lib/python2.7/site-packages/matplotlib/collections.py:590: FutureWarning: elementwise comparison failed; returning scalar instead, but in the future will perform elementwise comparison\n",
      "  if self._edgecolors == str('face'):\n"
     ]
    },
    {
     "data": {
      "text/plain": [
       "<mpl_toolkits.mplot3d.art3d.Path3DCollection at 0x10c162110>"
      ]
     },
     "execution_count": 24,
     "metadata": {},
     "output_type": "execute_result"
    },
    {
     "data": {
      "image/png": "[encoded data removed]",
      "text/plain": [
       "<matplotlib.figure.Figure at 0x10c08cdd0>"
      ]
     },
     "metadata": {},
     "output_type": "display_data"
    }
   ],
   "source": [
    "fig = plt.figure(figsize=(8,8))\n",
    "ax = fig.add_subplot(111, projection='3d')\n",
    "plt.rcParams['legend.fontsize'] = 10\n",
    "ax.scatter(np.array(P[:,0]), np.array(P[:,1]), np.array(P[:,2]),\n",
    "        'o', color='blue', alpha=0.5)"
   ]
  },
  {
   "cell_type": "markdown",
   "metadata": {},
   "source": [
    "### Problem 6 (15% of credit)\n",
    "For the dataset above select a minimal number of leading principal components necessary to cover at least $90\\%$ of the entire variation and\n",
    "perform multivariate regression of the output variable Y vs those selected components."
   ]
  },
  {
   "cell_type": "code",
   "execution_count": 39,
   "metadata": {
    "collapsed": false
   },
   "outputs": [
    {
     "ename": "ValueError",
     "evalue": "Length of values does not match length of index",
     "output_type": "error",
     "traceback": [
      "\u001b[0;31m---------------------------------------------------------------------------\u001b[0m",
      "\u001b[0;31mValueError\u001b[0m                                Traceback (most recent call last)",
      "\u001b[0;32m<ipython-input-39-435b87751fd6>\u001b[0m in \u001b[0;36m<module>\u001b[0;34m()\u001b[0m\n\u001b[1;32m      2\u001b[0m \u001b[0mdata\u001b[0m\u001b[0;34m.\u001b[0m\u001b[0mcolumns\u001b[0m\u001b[0;34m=\u001b[0m\u001b[0;34m[\u001b[0m\u001b[0;34m'P1'\u001b[0m\u001b[0;34m,\u001b[0m\u001b[0;34m'P2'\u001b[0m\u001b[0;34m,\u001b[0m\u001b[0;34m'P3'\u001b[0m\u001b[0;34m,\u001b[0m\u001b[0;34m'P4'\u001b[0m\u001b[0;34m,\u001b[0m\u001b[0;34m'P5'\u001b[0m\u001b[0;34m,\u001b[0m\u001b[0;34m'P6'\u001b[0m\u001b[0;34m,\u001b[0m\u001b[0;34m'P7'\u001b[0m\u001b[0;34m,\u001b[0m\u001b[0;34m'P8'\u001b[0m\u001b[0;34m,\u001b[0m\u001b[0;34m'P9'\u001b[0m\u001b[0;34m,\u001b[0m\u001b[0;34m'P10'\u001b[0m\u001b[0;34m]\u001b[0m\u001b[0;34m\u001b[0m\u001b[0m\n\u001b[1;32m      3\u001b[0m \u001b[0mdata\u001b[0m\u001b[0;34m.\u001b[0m\u001b[0mhead\u001b[0m\u001b[0;34m(\u001b[0m\u001b[0;34m)\u001b[0m\u001b[0;34m\u001b[0m\u001b[0m\n\u001b[0;32m----> 4\u001b[0;31m \u001b[0mdata\u001b[0m\u001b[0;34m[\u001b[0m\u001b[0;34m'Y'\u001b[0m\u001b[0;34m]\u001b[0m\u001b[0;34m=\u001b[0m\u001b[0mY\u001b[0m\u001b[0;34m\u001b[0m\u001b[0m\n\u001b[0m\u001b[1;32m      5\u001b[0m \u001b[0mdata\u001b[0m\u001b[0;34m.\u001b[0m\u001b[0mhead\u001b[0m\u001b[0;34m(\u001b[0m\u001b[0;34m)\u001b[0m\u001b[0;34m\u001b[0m\u001b[0m\n\u001b[1;32m      6\u001b[0m \u001b[0;32mimport\u001b[0m \u001b[0mstatsmodels\u001b[0m\u001b[0;34m.\u001b[0m\u001b[0mformula\u001b[0m\u001b[0;34m.\u001b[0m\u001b[0mapi\u001b[0m \u001b[0;32mas\u001b[0m \u001b[0msmf\u001b[0m\u001b[0;34m\u001b[0m\u001b[0m\n",
      "\u001b[0;32m/Users/bonanyuan/anaconda/lib/python2.7/site-packages/pandas/core/frame.pyc\u001b[0m in \u001b[0;36m__setitem__\u001b[0;34m(self, key, value)\u001b[0m\n\u001b[1;32m   2242\u001b[0m         \u001b[0;32melse\u001b[0m\u001b[0;34m:\u001b[0m\u001b[0;34m\u001b[0m\u001b[0m\n\u001b[1;32m   2243\u001b[0m             \u001b[0;31m# set column\u001b[0m\u001b[0;34m\u001b[0m\u001b[0;34m\u001b[0m\u001b[0m\n\u001b[0;32m-> 2244\u001b[0;31m             \u001b[0mself\u001b[0m\u001b[0;34m.\u001b[0m\u001b[0m_set_item\u001b[0m\u001b[0;34m(\u001b[0m\u001b[0mkey\u001b[0m\u001b[0;34m,\u001b[0m \u001b[0mvalue\u001b[0m\u001b[0;34m)\u001b[0m\u001b[0;34m\u001b[0m\u001b[0m\n\u001b[0m\u001b[1;32m   2245\u001b[0m \u001b[0;34m\u001b[0m\u001b[0m\n\u001b[1;32m   2246\u001b[0m     \u001b[0;32mdef\u001b[0m \u001b[0m_setitem_slice\u001b[0m\u001b[0;34m(\u001b[0m\u001b[0mself\u001b[0m\u001b[0;34m,\u001b[0m \u001b[0mkey\u001b[0m\u001b[0;34m,\u001b[0m \u001b[0mvalue\u001b[0m\u001b[0;34m)\u001b[0m\u001b[0;34m:\u001b[0m\u001b[0;34m\u001b[0m\u001b[0m\n",
      "\u001b[0;32m/Users/bonanyuan/anaconda/lib/python2.7/site-packages/pandas/core/frame.pyc\u001b[0m in \u001b[0;36m_set_item\u001b[0;34m(self, key, value)\u001b[0m\n\u001b[1;32m   2309\u001b[0m \u001b[0;34m\u001b[0m\u001b[0m\n\u001b[1;32m   2310\u001b[0m         \u001b[0mself\u001b[0m\u001b[0;34m.\u001b[0m\u001b[0m_ensure_valid_index\u001b[0m\u001b[0;34m(\u001b[0m\u001b[0mvalue\u001b[0m\u001b[0;34m)\u001b[0m\u001b[0;34m\u001b[0m\u001b[0m\n\u001b[0;32m-> 2311\u001b[0;31m         \u001b[0mvalue\u001b[0m \u001b[0;34m=\u001b[0m \u001b[0mself\u001b[0m\u001b[0;34m.\u001b[0m\u001b[0m_sanitize_column\u001b[0m\u001b[0;34m(\u001b[0m\u001b[0mkey\u001b[0m\u001b[0;34m,\u001b[0m \u001b[0mvalue\u001b[0m\u001b[0;34m)\u001b[0m\u001b[0;34m\u001b[0m\u001b[0m\n\u001b[0m\u001b[1;32m   2312\u001b[0m         \u001b[0mNDFrame\u001b[0m\u001b[0;34m.\u001b[0m\u001b[0m_set_item\u001b[0m\u001b[0;34m(\u001b[0m\u001b[0mself\u001b[0m\u001b[0;34m,\u001b[0m \u001b[0mkey\u001b[0m\u001b[0;34m,\u001b[0m \u001b[0mvalue\u001b[0m\u001b[0;34m)\u001b[0m\u001b[0;34m\u001b[0m\u001b[0m\n\u001b[1;32m   2313\u001b[0m \u001b[0;34m\u001b[0m\u001b[0m\n",
      "\u001b[0;32m/Users/bonanyuan/anaconda/lib/python2.7/site-packages/pandas/core/frame.pyc\u001b[0m in \u001b[0;36m_sanitize_column\u001b[0;34m(self, key, value)\u001b[0m\n\u001b[1;32m   2467\u001b[0m \u001b[0;34m\u001b[0m\u001b[0m\n\u001b[1;32m   2468\u001b[0m             \u001b[0;31m# turn me into an ndarray\u001b[0m\u001b[0;34m\u001b[0m\u001b[0;34m\u001b[0m\u001b[0m\n\u001b[0;32m-> 2469\u001b[0;31m             \u001b[0mvalue\u001b[0m \u001b[0;34m=\u001b[0m \u001b[0m_sanitize_index\u001b[0m\u001b[0;34m(\u001b[0m\u001b[0mvalue\u001b[0m\u001b[0;34m,\u001b[0m \u001b[0mself\u001b[0m\u001b[0;34m.\u001b[0m\u001b[0mindex\u001b[0m\u001b[0;34m,\u001b[0m \u001b[0mcopy\u001b[0m\u001b[0;34m=\u001b[0m\u001b[0mFalse\u001b[0m\u001b[0;34m)\u001b[0m\u001b[0;34m\u001b[0m\u001b[0m\n\u001b[0m\u001b[1;32m   2470\u001b[0m             \u001b[0;32mif\u001b[0m \u001b[0;32mnot\u001b[0m \u001b[0misinstance\u001b[0m\u001b[0;34m(\u001b[0m\u001b[0mvalue\u001b[0m\u001b[0;34m,\u001b[0m \u001b[0;34m(\u001b[0m\u001b[0mnp\u001b[0m\u001b[0;34m.\u001b[0m\u001b[0mndarray\u001b[0m\u001b[0;34m,\u001b[0m \u001b[0mIndex\u001b[0m\u001b[0;34m)\u001b[0m\u001b[0;34m)\u001b[0m\u001b[0;34m:\u001b[0m\u001b[0;34m\u001b[0m\u001b[0m\n\u001b[1;32m   2471\u001b[0m                 \u001b[0;32mif\u001b[0m \u001b[0misinstance\u001b[0m\u001b[0;34m(\u001b[0m\u001b[0mvalue\u001b[0m\u001b[0;34m,\u001b[0m \u001b[0mlist\u001b[0m\u001b[0;34m)\u001b[0m \u001b[0;32mand\u001b[0m \u001b[0mlen\u001b[0m\u001b[0;34m(\u001b[0m\u001b[0mvalue\u001b[0m\u001b[0;34m)\u001b[0m \u001b[0;34m>\u001b[0m \u001b[0;36m0\u001b[0m\u001b[0;34m:\u001b[0m\u001b[0;34m\u001b[0m\u001b[0m\n",
      "\u001b[0;32m/Users/bonanyuan/anaconda/lib/python2.7/site-packages/pandas/core/series.pyc\u001b[0m in \u001b[0;36m_sanitize_index\u001b[0;34m(data, index, copy)\u001b[0m\n\u001b[1;32m   2694\u001b[0m \u001b[0;34m\u001b[0m\u001b[0m\n\u001b[1;32m   2695\u001b[0m     \u001b[0;32mif\u001b[0m \u001b[0mlen\u001b[0m\u001b[0;34m(\u001b[0m\u001b[0mdata\u001b[0m\u001b[0;34m)\u001b[0m \u001b[0;34m!=\u001b[0m \u001b[0mlen\u001b[0m\u001b[0;34m(\u001b[0m\u001b[0mindex\u001b[0m\u001b[0;34m)\u001b[0m\u001b[0;34m:\u001b[0m\u001b[0;34m\u001b[0m\u001b[0m\n\u001b[0;32m-> 2696\u001b[0;31m         raise ValueError('Length of values does not match length of '\n\u001b[0m\u001b[1;32m   2697\u001b[0m                          'index')\n\u001b[1;32m   2698\u001b[0m \u001b[0;34m\u001b[0m\u001b[0m\n",
      "\u001b[0;31mValueError\u001b[0m: Length of values does not match length of index"
     ]
    }
   ],
   "source": [
    "data=pd.DataFrame(P[:,0:10])\n",
    "data.columns=['P1','P2','P3','P4','P5','P6','P7','P8','P9','P10']\n",
    "data.head()\n",
    "data['Y']=Y\n",
    "data.head()\n",
    "import statsmodels.formula.api as smf\n",
    "lm = smf.ols(formula='Y ~ P1+P2+P3+P4+P5+P6+P7+P8+P9+P10', data = data).fit()\n",
    "print(lm.summary())"
   ]
  },
  {
   "cell_type": "code",
   "execution_count": null,
   "metadata": {
    "collapsed": true
   },
   "outputs": [],
   "source": []
  }
 ],
 "metadata": {
  "kernelspec": {
   "display_name": "Python 2",
   "language": "python",
   "name": "python2"
  },
  "language_info": {
   "codemirror_mode": {
    "name": "ipython",
    "version": 2
   },
   "file_extension": ".py",
   "mimetype": "text/x-python",
   "name": "python",
   "nbconvert_exporter": "python",
   "pygments_lexer": "ipython2",
   "version": "2.7.10"
  }
 },
 "nbformat": 4,
 "nbformat_minor": 0
}
